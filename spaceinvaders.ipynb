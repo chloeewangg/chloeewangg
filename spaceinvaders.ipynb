{
 "cells": [
  {
   "cell_type": "code",
   "execution_count": 1,
   "id": "1413b6db",
   "metadata": {},
   "outputs": [
    {
     "name": "stdout",
     "output_type": "stream",
     "text": [
      "Requirement already satisfied: tensorflow==2.3.1 in c:\\users\\dymon\\anaconda3\\lib\\site-packages (2.3.1)\n",
      "Requirement already satisfied: gym in c:\\users\\dymon\\anaconda3\\lib\\site-packages (0.19.0)\n",
      "Requirement already satisfied: keras-rl2 in c:\\users\\dymon\\anaconda3\\lib\\site-packages (1.0.5)\n",
      "Requirement already satisfied: grpcio>=1.8.6 in c:\\users\\dymon\\anaconda3\\lib\\site-packages (from tensorflow==2.3.1) (1.41.1)\n",
      "Requirement already satisfied: h5py<2.11.0,>=2.10.0 in c:\\users\\dymon\\anaconda3\\lib\\site-packages (from tensorflow==2.3.1) (2.10.0)\n",
      "Requirement already satisfied: keras-preprocessing<1.2,>=1.1.1 in c:\\users\\dymon\\anaconda3\\lib\\site-packages (from tensorflow==2.3.1) (1.1.2)\n",
      "Requirement already satisfied: opt-einsum>=2.3.2 in c:\\users\\dymon\\anaconda3\\lib\\site-packages (from tensorflow==2.3.1) (3.3.0)\n",
      "Requirement already satisfied: tensorboard<3,>=2.3.0 in c:\\users\\dymon\\anaconda3\\lib\\site-packages (from tensorflow==2.3.1) (2.7.0)\n",
      "Requirement already satisfied: termcolor>=1.1.0 in c:\\users\\dymon\\anaconda3\\lib\\site-packages (from tensorflow==2.3.1) (1.1.0)\n",
      "Requirement already satisfied: astunparse==1.6.3 in c:\\users\\dymon\\anaconda3\\lib\\site-packages (from tensorflow==2.3.1) (1.6.3)\n",
      "Requirement already satisfied: numpy<1.19.0,>=1.16.0 in c:\\users\\dymon\\anaconda3\\lib\\site-packages (from tensorflow==2.3.1) (1.18.5)\n",
      "Requirement already satisfied: protobuf>=3.9.2 in c:\\users\\dymon\\anaconda3\\lib\\site-packages (from tensorflow==2.3.1) (3.19.1)\n",
      "Requirement already satisfied: tensorflow-estimator<2.4.0,>=2.3.0 in c:\\users\\dymon\\anaconda3\\lib\\site-packages (from tensorflow==2.3.1) (2.3.0)\n",
      "Requirement already satisfied: wrapt>=1.11.1 in c:\\users\\dymon\\anaconda3\\lib\\site-packages (from tensorflow==2.3.1) (1.12.1)\n",
      "Requirement already satisfied: google-pasta>=0.1.8 in c:\\users\\dymon\\anaconda3\\lib\\site-packages (from tensorflow==2.3.1) (0.2.0)\n",
      "Requirement already satisfied: absl-py>=0.7.0 in c:\\users\\dymon\\anaconda3\\lib\\site-packages (from tensorflow==2.3.1) (1.0.0)\n",
      "Requirement already satisfied: wheel>=0.26 in c:\\users\\dymon\\anaconda3\\lib\\site-packages (from tensorflow==2.3.1) (0.36.2)\n",
      "Requirement already satisfied: six>=1.12.0 in c:\\users\\dymon\\anaconda3\\lib\\site-packages (from tensorflow==2.3.1) (1.15.0)\n",
      "Requirement already satisfied: gast==0.3.3 in c:\\users\\dymon\\anaconda3\\lib\\site-packages (from tensorflow==2.3.1) (0.3.3)\n",
      "Requirement already satisfied: requests<3,>=2.21.0 in c:\\users\\dymon\\anaconda3\\lib\\site-packages (from tensorboard<3,>=2.3.0->tensorflow==2.3.1) (2.25.1)\n",
      "Requirement already satisfied: werkzeug>=0.11.15 in c:\\users\\dymon\\anaconda3\\lib\\site-packages (from tensorboard<3,>=2.3.0->tensorflow==2.3.1) (1.0.1)\n",
      "Requirement already satisfied: markdown>=2.6.8 in c:\\users\\dymon\\anaconda3\\lib\\site-packages (from tensorboard<3,>=2.3.0->tensorflow==2.3.1) (3.3.4)\n",
      "Requirement already satisfied: tensorboard-data-server<0.7.0,>=0.6.0 in c:\\users\\dymon\\anaconda3\\lib\\site-packages (from tensorboard<3,>=2.3.0->tensorflow==2.3.1) (0.6.1)\n",
      "Requirement already satisfied: google-auth<3,>=1.6.3 in c:\\users\\dymon\\anaconda3\\lib\\site-packages (from tensorboard<3,>=2.3.0->tensorflow==2.3.1) (2.3.3)\n",
      "Requirement already satisfied: tensorboard-plugin-wit>=1.6.0 in c:\\users\\dymon\\anaconda3\\lib\\site-packages (from tensorboard<3,>=2.3.0->tensorflow==2.3.1) (1.8.0)\n",
      "Requirement already satisfied: google-auth-oauthlib<0.5,>=0.4.1 in c:\\users\\dymon\\anaconda3\\lib\\site-packages (from tensorboard<3,>=2.3.0->tensorflow==2.3.1) (0.4.6)\n",
      "Requirement already satisfied: setuptools>=41.0.0 in c:\\users\\dymon\\anaconda3\\lib\\site-packages (from tensorboard<3,>=2.3.0->tensorflow==2.3.1) (52.0.0.post20210125)\n",
      "Requirement already satisfied: cachetools<5.0,>=2.0.0 in c:\\users\\dymon\\anaconda3\\lib\\site-packages (from google-auth<3,>=1.6.3->tensorboard<3,>=2.3.0->tensorflow==2.3.1) (4.2.4)\n",
      "Requirement already satisfied: rsa<5,>=3.1.4 in c:\\users\\dymon\\anaconda3\\lib\\site-packages (from google-auth<3,>=1.6.3->tensorboard<3,>=2.3.0->tensorflow==2.3.1) (4.7.2)\n",
      "Requirement already satisfied: pyasn1-modules>=0.2.1 in c:\\users\\dymon\\anaconda3\\lib\\site-packages (from google-auth<3,>=1.6.3->tensorboard<3,>=2.3.0->tensorflow==2.3.1) (0.2.8)\n",
      "Requirement already satisfied: requests-oauthlib>=0.7.0 in c:\\users\\dymon\\anaconda3\\lib\\site-packages (from google-auth-oauthlib<0.5,>=0.4.1->tensorboard<3,>=2.3.0->tensorflow==2.3.1) (1.3.0)\n",
      "Requirement already satisfied: pyasn1<0.5.0,>=0.4.6 in c:\\users\\dymon\\anaconda3\\lib\\site-packages (from pyasn1-modules>=0.2.1->google-auth<3,>=1.6.3->tensorboard<3,>=2.3.0->tensorflow==2.3.1) (0.4.8)\n",
      "Requirement already satisfied: urllib3<1.27,>=1.21.1 in c:\\users\\dymon\\anaconda3\\lib\\site-packages (from requests<3,>=2.21.0->tensorboard<3,>=2.3.0->tensorflow==2.3.1) (1.26.4)\n",
      "Requirement already satisfied: certifi>=2017.4.17 in c:\\users\\dymon\\anaconda3\\lib\\site-packages (from requests<3,>=2.21.0->tensorboard<3,>=2.3.0->tensorflow==2.3.1) (2020.12.5)\n",
      "Requirement already satisfied: chardet<5,>=3.0.2 in c:\\users\\dymon\\anaconda3\\lib\\site-packages (from requests<3,>=2.21.0->tensorboard<3,>=2.3.0->tensorflow==2.3.1) (4.0.0)\n",
      "Requirement already satisfied: idna<3,>=2.5 in c:\\users\\dymon\\anaconda3\\lib\\site-packages (from requests<3,>=2.21.0->tensorboard<3,>=2.3.0->tensorflow==2.3.1) (2.10)\n",
      "Requirement already satisfied: oauthlib>=3.0.0 in c:\\users\\dymon\\anaconda3\\lib\\site-packages (from requests-oauthlib>=0.7.0->google-auth-oauthlib<0.5,>=0.4.1->tensorboard<3,>=2.3.0->tensorflow==2.3.1) (3.1.1)\n",
      "Requirement already satisfied: cloudpickle<1.7.0,>=1.2.0 in c:\\users\\dymon\\anaconda3\\lib\\site-packages (from gym) (1.6.0)\n",
      "Requirement already satisfied: opencv-python>=3. in c:\\users\\dymon\\anaconda3\\lib\\site-packages (from gym) (4.5.4.58)\n",
      "Requirement already satisfied: atari-py==0.2.6 in c:\\users\\dymon\\anaconda3\\lib\\site-packages (from gym) (0.2.6)\n"
     ]
    }
   ],
   "source": [
    "!pip install tensorflow==2.3.1 gym keras-rl2 gym[atari]"
   ]
  },
  {
   "cell_type": "code",
   "execution_count": 2,
   "id": "016d2422",
   "metadata": {},
   "outputs": [],
   "source": [
    "import gym \n",
    "import os\n",
    "import random"
   ]
  },
  {
   "cell_type": "code",
   "execution_count": 3,
   "id": "13cdafdc",
   "metadata": {
    "scrolled": true
   },
   "outputs": [
    {
     "name": "stdout",
     "output_type": "stream",
     "text": [
      "^C\n"
     ]
    }
   ],
   "source": [
    "!python -m retro.import .\\ROMS\\ROMS"
   ]
  },
  {
   "cell_type": "code",
   "execution_count": 4,
   "id": "c279f335",
   "metadata": {},
   "outputs": [],
   "source": [
    "env = gym.make('SpaceInvaders-v0')\n",
    "height, width, channels = env.observation_space.shape\n",
    "actions = env.action_space.n"
   ]
  },
  {
   "cell_type": "code",
   "execution_count": 5,
   "id": "044c73a6",
   "metadata": {},
   "outputs": [
    {
     "data": {
      "text/plain": [
       "['NOOP', 'FIRE', 'RIGHT', 'LEFT', 'RIGHTFIRE', 'LEFTFIRE']"
      ]
     },
     "execution_count": 5,
     "metadata": {},
     "output_type": "execute_result"
    }
   ],
   "source": [
    "env.unwrapped.get_action_meanings()\n"
   ]
  },
  {
   "cell_type": "code",
   "execution_count": 6,
   "id": "09a9fa84",
   "metadata": {},
   "outputs": [
    {
     "name": "stdout",
     "output_type": "stream",
     "text": [
      "Episode:1 Score:110.0\n",
      "Episode:2 Score:120.0\n",
      "Episode:3 Score:155.0\n",
      "Episode:4 Score:180.0\n",
      "Episode:5 Score:105.0\n"
     ]
    }
   ],
   "source": [
    "episodes = 5\n",
    "for episode in range(1, episodes+1):\n",
    "    state = env.reset()\n",
    "    done = False\n",
    "    score = 0 \n",
    "    \n",
    "    while not done:\n",
    "        env.render()\n",
    "        action = random.choice([0,1,2,3,4,5])\n",
    "        n_state, reward, done, info = env.step(action)\n",
    "        score+=reward\n",
    "    print('Episode:{} Score:{}'.format(episode, score))\n",
    "env.close()"
   ]
  },
  {
   "cell_type": "code",
   "execution_count": 7,
   "id": "b8f53a56",
   "metadata": {},
   "outputs": [
    {
     "name": "stderr",
     "output_type": "stream",
     "text": [
      "Traceback (most recent call last):\n",
      "  File \"C:\\Users\\dymon\\anaconda3\\lib\\runpy.py\", line 194, in _run_module_as_main\n",
      "    return _run_code(code, main_globals, None,\n",
      "  File \"C:\\Users\\dymon\\anaconda3\\lib\\runpy.py\", line 87, in _run_code\n",
      "    exec(code, run_globals)\n",
      "  File \"C:\\Users\\dymon\\anaconda3\\lib\\site-packages\\retro\\import\\__main__.py\", line 4, in <module>\n",
      "    main()\n",
      "  File \"C:\\Users\\dymon\\anaconda3\\lib\\site-packages\\retro\\scripts\\import_path.py\", line 42, in main\n",
      "    with open(filepath, \"rb\") as f:\n",
      "FileNotFoundError: [Errno 2] No such file or directory: '.\\\\ROMS\\\\ROMS\\\\Pursuit of the Pink Panther (Pink Panther - The Video Game, Adventures of the Pink Panther) (1983) (Probe 2000 - NAP, Roger Booth, Todd Marshall, Robin McDaniel, Jim Wickstead) (3152VC) (Prototype) ~.bin'\n"
     ]
    },
    {
     "name": "stdout",
     "output_type": "stream",
     "text": [
      "Importing Adventure-Atari2600\n",
      "Importing AirRaid-Atari2600\n",
      "Importing Alien-Atari2600\n",
      "Importing Amidar-Atari2600\n",
      "Importing Assault-Atari2600\n",
      "Importing Asterix-Atari2600\n",
      "Importing Asterix-Atari2600\n",
      "Importing Asteroids-Atari2600\n",
      "Importing Atlantis-Atari2600\n",
      "Importing BankHeist-Atari2600\n",
      "Importing BattleZone-Atari2600\n",
      "Importing BeamRider-Atari2600\n",
      "Importing Berzerk-Atari2600\n",
      "Importing Bowling-Atari2600\n",
      "Importing Boxing-Atari2600\n",
      "Importing Breakout-Atari2600\n",
      "Importing Carnival-Atari2600\n",
      "Importing Centipede-Atari2600\n",
      "Importing ChopperCommand-Atari2600\n",
      "Importing CrazyClimber-Atari2600\n",
      "Importing Defender-Atari2600\n",
      "Importing DemonAttack-Atari2600\n",
      "Importing DoubleDunk-Atari2600\n",
      "Importing ElevatorAction-Atari2600\n",
      "Importing Enduro-Atari2600\n",
      "Importing FishingDerby-Atari2600\n",
      "Importing Freeway-Atari2600\n",
      "Importing Frostbite-Atari2600\n",
      "Importing Gopher-Atari2600\n",
      "Importing Gravitar-Atari2600\n",
      "Importing Hero-Atari2600\n",
      "Importing IceHockey-Atari2600\n",
      "Importing Jamesbond-Atari2600\n",
      "Importing JourneyEscape-Atari2600\n",
      "Importing Kaboom-Atari2600\n",
      "Importing Kangaroo-Atari2600\n",
      "Importing Krull-Atari2600\n",
      "Importing KungFuMaster-Atari2600\n",
      "Importing Assault-Atari2600\n",
      "Importing MontezumaRevenge-Atari2600\n",
      "Importing MsPacman-Atari2600\n",
      "Importing NameThisGame-Atari2600\n",
      "Importing Phoenix-Atari2600\n",
      "Importing Pitfall-Atari2600\n",
      "Importing Pooyan-Atari2600\n",
      "Importing PrivateEye-Atari2600\n"
     ]
    }
   ],
   "source": [
    "import numpy as np\n",
    "from tensorflow.keras.models import Sequential\n",
    "from tensorflow.keras.layers import Dense, Flatten, Convolution2D\n",
    "from tensorflow.keras.optimizers import Adam"
   ]
  },
  {
   "cell_type": "code",
   "execution_count": 8,
   "id": "ef134ec1",
   "metadata": {},
   "outputs": [],
   "source": [
    "def build_model(height, width, channels, actions):\n",
    "    model = Sequential()\n",
    "    model.add(Convolution2D(32, (8,8), strides=(4,4), activation='relu', input_shape=(3,height, width, channels)))\n",
    "    model.add(Convolution2D(64, (4,4), strides=(2,2), activation='relu'))\n",
    "    model.add(Convolution2D(64, (3,3), activation='relu'))\n",
    "    model.add(Flatten())\n",
    "    model.add(Dense(512, activation='relu'))\n",
    "    model.add(Dense(256, activation='relu'))\n",
    "    model.add(Dense(actions, activation='linear'))\n",
    "    return model"
   ]
  },
  {
   "cell_type": "code",
   "execution_count": 16,
   "id": "e7212e7b",
   "metadata": {},
   "outputs": [],
   "source": [
    "model = build_model(height, width, channels, actions)"
   ]
  },
  {
   "cell_type": "code",
   "execution_count": 17,
   "id": "e57f27f5",
   "metadata": {},
   "outputs": [
    {
     "name": "stdout",
     "output_type": "stream",
     "text": [
      "Model: \"sequential_1\"\n",
      "_________________________________________________________________\n",
      "Layer (type)                 Output Shape              Param #   \n",
      "=================================================================\n",
      "conv2d_3 (Conv2D)            (None, 3, 51, 39, 32)     6176      \n",
      "_________________________________________________________________\n",
      "conv2d_4 (Conv2D)            (None, 3, 24, 18, 64)     32832     \n",
      "_________________________________________________________________\n",
      "conv2d_5 (Conv2D)            (None, 3, 22, 16, 64)     36928     \n",
      "_________________________________________________________________\n",
      "flatten_1 (Flatten)          (None, 67584)             0         \n",
      "_________________________________________________________________\n",
      "dense_3 (Dense)              (None, 512)               34603520  \n",
      "_________________________________________________________________\n",
      "dense_4 (Dense)              (None, 256)               131328    \n",
      "_________________________________________________________________\n",
      "dense_5 (Dense)              (None, 6)                 1542      \n",
      "=================================================================\n",
      "Total params: 34,812,326\n",
      "Trainable params: 34,812,326\n",
      "Non-trainable params: 0\n",
      "_________________________________________________________________\n"
     ]
    }
   ],
   "source": [
    "model.summary()"
   ]
  },
  {
   "cell_type": "code",
   "execution_count": 15,
   "id": "8a6cf264",
   "metadata": {},
   "outputs": [
    {
     "ename": "NameError",
     "evalue": "name 'model' is not defined",
     "output_type": "error",
     "traceback": [
      "\u001b[1;31m---------------------------------------------------------------------------\u001b[0m",
      "\u001b[1;31mNameError\u001b[0m                                 Traceback (most recent call last)",
      "\u001b[1;32m<ipython-input-15-a7ab210f85a1>\u001b[0m in \u001b[0;36m<module>\u001b[1;34m\u001b[0m\n\u001b[1;32m----> 1\u001b[1;33m \u001b[1;32mdel\u001b[0m \u001b[0mmodel\u001b[0m\u001b[1;33m\u001b[0m\u001b[1;33m\u001b[0m\u001b[0m\n\u001b[0m",
      "\u001b[1;31mNameError\u001b[0m: name 'model' is not defined"
     ]
    }
   ],
   "source": [
    "del model"
   ]
  },
  {
   "cell_type": "code",
   "execution_count": 11,
   "id": "2c266553",
   "metadata": {},
   "outputs": [],
   "source": [
    "from rl.agents import DQNAgent\n",
    "from rl.memory import SequentialMemory\n",
    "from rl.policy import LinearAnnealedPolicy, EpsGreedyQPolicy"
   ]
  },
  {
   "cell_type": "code",
   "execution_count": 12,
   "id": "b41e8c81",
   "metadata": {},
   "outputs": [],
   "source": [
    "def build_agent(model, actions):\n",
    "    policy = LinearAnnealedPolicy(EpsGreedyQPolicy(), attr='eps', value_max=1., value_min=.1, value_test=.2, nb_steps=10000)\n",
    "    memory = SequentialMemory(limit=1000, window_length=3)\n",
    "    dqn = DQNAgent(model=model, memory=memory, policy=policy,\n",
    "                  enable_dueling_network=True, dueling_type='avg', \n",
    "                   nb_actions=actions, nb_steps_warmup=1000\n",
    "                  )\n",
    "    return dqn"
   ]
  },
  {
   "cell_type": "code",
   "execution_count": 18,
   "id": "bc2b5151",
   "metadata": {},
   "outputs": [],
   "source": [
    "dqn = build_agent(model, actions)\n",
    "dqn.compile(Adam(lr=1e-4))"
   ]
  },
  {
   "cell_type": "code",
   "execution_count": null,
   "id": "a9d42858",
   "metadata": {},
   "outputs": [],
   "source": [
    "dqn.fit(env, nb_steps=10000, visualize=False, verbose=2)"
   ]
  },
  {
   "cell_type": "code",
   "execution_count": 20,
   "id": "b7980c97",
   "metadata": {},
   "outputs": [
    {
     "name": "stdout",
     "output_type": "stream",
     "text": [
      "Testing for 10 episodes ...\n",
      "Episode 1: reward: 20.000, steps: 341\n",
      "Episode 2: reward: 30.000, steps: 343\n",
      "Episode 3: reward: 135.000, steps: 688\n",
      "Episode 4: reward: 155.000, steps: 581\n",
      "Episode 5: reward: 90.000, steps: 465\n",
      "Episode 6: reward: 95.000, steps: 439\n",
      "Episode 7: reward: 75.000, steps: 495\n",
      "Episode 8: reward: 75.000, steps: 419\n",
      "Episode 9: reward: 105.000, steps: 482\n",
      "Episode 10: reward: 60.000, steps: 372\n",
      "84.0\n"
     ]
    }
   ],
   "source": [
    "scores = dqn.test(env, nb_episodes=10, visualize=True)\n",
    "print(np.mean(scores.history['episode_reward']))"
   ]
  },
  {
   "cell_type": "code",
   "execution_count": null,
   "id": "145b83ee",
   "metadata": {},
   "outputs": [],
   "source": []
  }
 ],
 "metadata": {
  "kernelspec": {
   "display_name": "Python 3",
   "language": "python",
   "name": "python3"
  },
  "language_info": {
   "codemirror_mode": {
    "name": "ipython",
    "version": 3
   },
   "file_extension": ".py",
   "mimetype": "text/x-python",
   "name": "python",
   "nbconvert_exporter": "python",
   "pygments_lexer": "ipython3",
   "version": "3.8.8"
  }
 },
 "nbformat": 4,
 "nbformat_minor": 5
}
